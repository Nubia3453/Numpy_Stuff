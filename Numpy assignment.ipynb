{
 "cells": [
  {
   "cell_type": "markdown",
   "id": "37699830",
   "metadata": {},
   "source": [
    "# Array Operations: \n",
    "Create two numpy arrays of size 5x5 and perform element-wise addition, subtraction, multiplication, and division."
   ]
  },
  {
   "cell_type": "markdown",
   "id": "96e0efc7",
   "metadata": {},
   "source": [
    "Create Arrays: First, you need to create two numpy arrays, each of size 5x5. You can generate these arrays randomly or initialize them with specific values.\n",
    "\n",
    "Element-wise Operations: Once you have your arrays, you'll perform four basic arithmetic operations on them element-wise: addition, subtraction, multiplication, and division.\n",
    "\n",
    "Addition: Add corresponding elements of the two arrays together.\n",
    "Subtraction: Subtract corresponding elements of one array from the other.\n",
    "Multiplication: Multiply corresponding elements of the two arrays.\n",
    "Division: Divide corresponding elements of one array by the elements of the other array."
   ]
  },
  {
   "cell_type": "code",
   "execution_count": 20,
   "id": "b4758c1a",
   "metadata": {},
   "outputs": [
    {
     "name": "stdout",
     "output_type": "stream",
     "text": [
      "[[9 7 9 1 8]\n",
      " [8 4 2 5 6]\n",
      " [2 6 3 8 2]\n",
      " [7 2 3 5 9]\n",
      " [9 3 8 5 8]]\n",
      "      +      \n",
      "[[1 8 2 6 6]\n",
      " [7 6 9 3 3]\n",
      " [9 3 7 7 6]\n",
      " [7 9 9 1 8]\n",
      " [5 2 5 4 2]]\n",
      "      =      \n",
      "[[10 15 11  7 14]\n",
      " [15 10 11  8  9]\n",
      " [11  9 10 15  8]\n",
      " [14 11 12  6 17]\n",
      " [14  5 13  9 10]]\n"
     ]
    }
   ],
   "source": [
    "#import requred pakages\n",
    "import numpy as np\n",
    "\n",
    "#create lists that can be used to create array. \n",
    "#here we are using random pakage of numpy to create list of randomly generated integers\n",
    "\n",
    "list1=np.random.randint(1,10,5)\n",
    "list2=np.random.randint(1,10,5)\n",
    "list3=np.random.randint(1,10,5)\n",
    "list4=np.random.randint(1,10,5)\n",
    "list5=np.random.randint(1,10,5)\n",
    "list6=np.random.randint(1,10,5)\n",
    "list7=np.random.randint(1,10,5)\n",
    "list8=np.random.randint(1,10,5)\n",
    "list9=np.random.randint(1,10,5)\n",
    "list10=np.random.randint(1,10,5)\n",
    "\n",
    "#requremnt is to create 5x5 array, its is multidimmessional array say 2d array.\n",
    "array1=np.array([list1,list2,list3,list4,list5])\n",
    "array2=np.array([list6,list7,list8,list9,list10])\n",
    "\n",
    "\n",
    "#perform areth,matic operations\n",
    "# 1. addition - for htis we can use 2 methods\n",
    "\n",
    "addition = array1+array2\n",
    "print(array1)\n",
    "print(' '*5,'+',' '*5)\n",
    "print(array2)\n",
    "print(' '*5,'=',' '*5)\n",
    "print(addition)"
   ]
  },
  {
   "cell_type": "code",
   "execution_count": 28,
   "id": "33705c81",
   "metadata": {},
   "outputs": [
    {
     "name": "stdout",
     "output_type": "stream",
     "text": [
      "[[ 8  3 15  3 15]\n",
      " [12 12  2 12 16]\n",
      " [ 1  5 19 19  4]\n",
      " [15 18  6  2 16]\n",
      " [10 15  1 14 16]]\n",
      "      +      \n",
      "[[19  7  1  4 19]\n",
      " [ 4  9  6 16  9]\n",
      " [13 13 19 13  5]\n",
      " [17  6 15  7  1]\n",
      " [15 12 16 16 12]]\n",
      "      =      \n",
      "[[27 10 16  7 34]\n",
      " [16 21  8 28 25]\n",
      " [14 18 38 32  9]\n",
      " [32 24 21  9 17]\n",
      " [25 27 17 30 28]]\n"
     ]
    }
   ],
   "source": [
    "#above code is very basic level code, we can optimize the code following way.\n",
    "#import requred pakages\n",
    "import numpy as np\n",
    "\n",
    "#here we are directly creating array from array fucntions, \n",
    "array1=np.random.randint(1,20,size=(5,5))\n",
    "array2=np.random.randint(1,20,size=(5,5))\n",
    "\n",
    "#using np.add() funtion to perfrom addition\n",
    "addition=np.add(array1,array2)\n",
    "\n",
    "#display output, more crative way\n",
    "print(array1)\n",
    "print(' '*5,'+',' '*5)\n",
    "print(array2)\n",
    "print(' '*5,'=',' '*5)\n",
    "print(addition)\n"
   ]
  },
  {
   "cell_type": "code",
   "execution_count": 32,
   "id": "072f8899",
   "metadata": {},
   "outputs": [
    {
     "name": "stdout",
     "output_type": "stream",
     "text": [
      "[[11 20 22 27 23]\n",
      " [14 21 21 13 11]\n",
      " [27 18 18 21 27]\n",
      " [28 21 15 16 21]\n",
      " [12 12 24 13 28]]\n",
      "      -      \n",
      "[[26 29 18 15 18]\n",
      " [22 11 18 19 18]\n",
      " [27 23 25 28 22]\n",
      " [25 19 29 26 23]\n",
      " [12 22 14 16 24]]\n",
      "      =      \n",
      "[[-15  -9   4  12   5]\n",
      " [ -8  10   3  -6  -7]\n",
      " [  0  -5  -7  -7   5]\n",
      " [  3   2 -14 -10  -2]\n",
      " [  0 -10  10  -3   4]]\n"
     ]
    }
   ],
   "source": [
    "#similler way we can perform subtraction, first create 2 arrays\n",
    "\n",
    "array3=np.random.randint(11,30,size=(5,5))\n",
    "array4=np.random.randint(11,30,size=(5,5))\n",
    "\n",
    "#perform subtrcation\n",
    "subtraction=np.subtract(array3,array4)\n",
    "\n",
    "#display output\n",
    "print(array3)\n",
    "print(' '*5,'-',' '*5)\n",
    "print(array4)\n",
    "print(' '*5,'=',' '*5)\n",
    "print(subtraction)\n",
    "\n"
   ]
  },
  {
   "cell_type": "code",
   "execution_count": 35,
   "id": "4ad9e0f6",
   "metadata": {},
   "outputs": [
    {
     "name": "stdout",
     "output_type": "stream",
     "text": [
      "[[25 19 19 14 12]\n",
      " [18 13 29 15 22]\n",
      " [17 21 28 26 11]\n",
      " [11 13 28 13 12]\n",
      " [20 15 16 29 11]]\n",
      "      *      \n",
      "[[27 13 15 12 22]\n",
      " [21 27 14 13 29]\n",
      " [19 17 28 17 13]\n",
      " [13 12 28 16 25]\n",
      " [12 24 15 25 13]]\n",
      "      =      \n",
      "[[675 247 285 168 264]\n",
      " [378 351 406 195 638]\n",
      " [323 357 784 442 143]\n",
      " [143 156 784 208 300]\n",
      " [240 360 240 725 143]]\n"
     ]
    }
   ],
   "source": [
    "#now lets perform multiplacation\n",
    "array5=np.random.randint(11,30,size=(5,5))\n",
    "array6=np.random.randint(11,30,size=(5,5))\n",
    "multi=np.multiply(array5,array6)\n",
    "print(array5)\n",
    "print(' '*5,'*',' '*5)\n",
    "print(array6)\n",
    "print(' '*5,'=',' '*5)\n",
    "print(multi)"
   ]
  },
  {
   "cell_type": "code",
   "execution_count": 38,
   "id": "82b2a8a7",
   "metadata": {},
   "outputs": [
    {
     "name": "stdout",
     "output_type": "stream",
     "text": [
      "[[28 14 26 16 17]\n",
      " [14 24 25 21 12]\n",
      " [16 26 18 15 15]\n",
      " [12 18 17 29 26]\n",
      " [11 11 22 12 26]]\n",
      "      /      \n",
      "[[27 13 26 21 17]\n",
      " [24 21 27 13 11]\n",
      " [25 17 12 27 21]\n",
      " [25 19 15 28 25]\n",
      " [17 28 17 24 20]]\n",
      "      =      \n",
      "[[1.03703704 1.07692308 1.         0.76190476 1.        ]\n",
      " [0.58333333 1.14285714 0.92592593 1.61538462 1.09090909]\n",
      " [0.64       1.52941176 1.5        0.55555556 0.71428571]\n",
      " [0.48       0.94736842 1.13333333 1.03571429 1.04      ]\n",
      " [0.64705882 0.39285714 1.29411765 0.5        1.3       ]]\n"
     ]
    }
   ],
   "source": [
    "#perform devision \n",
    "array7=np.random.randint(11,30,size=(5,5))\n",
    "array8=np.random.randint(11,30,size=(5,5))\n",
    "divide=np.divide(array7,array8)\n",
    "print(array7)\n",
    "print(' '*5,'/',' '*5)\n",
    "print(array8)\n",
    "print(' '*5,'=',' '*5)\n",
    "print(divide)"
   ]
  },
  {
   "cell_type": "markdown",
   "id": "b4768df1",
   "metadata": {},
   "source": [
    "# Statistics Calculation: \n",
    "Generate a numpy array of 100 random numbers and calculate the mean, median, standard deviation, and variance.\n",
    "\n",
    "# functions used\n",
    "\n",
    "1.mean() - mean value is avag value of series, it is the sum of all elemnts of series devided the total no of the series.\n",
    "\n",
    "2.median() - median is middle value of series, this value devide the whole series into two eqaul parts, one part has all lower values while other parts has all higher values.\n",
    "\n",
    "3.std() - standerd deviation is measure that, how data is distributed about mean value. wheather data is clustered near to mean value or it spread arround. \n",
    "\n",
    "4.var() - varience defines how much data is deviated form its mean value."
   ]
  },
  {
   "cell_type": "code",
   "execution_count": 46,
   "id": "d5795c79",
   "metadata": {},
   "outputs": [
    {
     "name": "stdout",
     "output_type": "stream",
     "text": [
      "[ 4  1 40 36  6 36 71 86 12 60 95 39 66  7 43 28 40 56 12 18 97  7 66 60\n",
      " 83 77 54 65 10 27 23 92 16 14 55 46 64 20 67 44 89 87 42 72 15 55 15 72\n",
      " 35  6 13 19 35 10 24 84 12 88 14 27 41 54  2  2 46 37 33 84 62 81 18 90\n",
      " 89 25 65 48 94 10 56 85 55 62 34 65 21 24 46 45 12 76 50 13 33  8 95 53\n",
      " 70 11 56 30]\n",
      "--------------------------------------------------------------------------------\n",
      "mean of above array is:  44.38\n"
     ]
    }
   ],
   "source": [
    "#calculate array of 100 elments\n",
    "array1=np.random.randint(1,101,size=100)\n",
    "#calculate mean\n",
    "mean_value = np.mean(array1)\n",
    "print(array1)\n",
    "print('-'*80)\n",
    "print('mean of above array is: ',mean_value)\n"
   ]
  },
  {
   "cell_type": "code",
   "execution_count": 52,
   "id": "9c8ced81",
   "metadata": {},
   "outputs": [
    {
     "name": "stdout",
     "output_type": "stream",
     "text": [
      "[ 7 10  3  5  3  9 10  2  7  8]\n",
      "------------------------------\n",
      "median of above array is:  7.0\n"
     ]
    }
   ],
   "source": [
    "#calculate array of 10 elments\n",
    "array1=np.random.randint(1,11,size=10)\n",
    "#calculate median\n",
    "med_value = np.median(array1)\n",
    "#display results\n",
    "print(array1)\n",
    "print('-'*30)\n",
    "print('median of above array is: ',med_value)"
   ]
  },
  {
   "cell_type": "code",
   "execution_count": 11,
   "id": "4c7c58a5",
   "metadata": {},
   "outputs": [
    {
     "name": "stdout",
     "output_type": "stream",
     "text": [
      "[18 12 23 10 15 22 14  3 21 14 22 16  6  5 21]\n",
      "------------------------------\n",
      "std dev of above array is:  6.3477\n"
     ]
    }
   ],
   "source": [
    "import numpy as np\n",
    "array2=np.random.randint(1,30,15)\n",
    "std_deviation=np.std(array2)\n",
    "print(array2)\n",
    "print('-'*30)\n",
    "print('std dev of above array is: ', round(std_deviation,4))"
   ]
  },
  {
   "cell_type": "code",
   "execution_count": 14,
   "id": "6d0c8b4f",
   "metadata": {},
   "outputs": [
    {
     "name": "stdout",
     "output_type": "stream",
     "text": [
      "[ 6 16  7 15  6]\n",
      "------------------------------\n",
      "varience of above array is:  20.4\n"
     ]
    }
   ],
   "source": [
    "import numpy as np\n",
    "array3=np.random.randint(1,20,5)\n",
    "var=np.var(array3)\n",
    "print(array3)\n",
    "print('-'*30)\n",
    "print('varience of above array is: ', var)\n"
   ]
  },
  {
   "cell_type": "markdown",
   "id": "09ae0aa2",
   "metadata": {},
   "source": [
    "# Matrix Multiplication: \n",
    "Create two matrices of size 3x3 and perform matrix multiplication using numpy."
   ]
  },
  {
   "cell_type": "code",
   "execution_count": 29,
   "id": "a2b13118",
   "metadata": {},
   "outputs": [
    {
     "name": "stdout",
     "output_type": "stream",
     "text": [
      "[[119  56  74]\n",
      " [110  94  89]\n",
      " [ 99  55  73]]\n",
      "[[119  56  74]\n",
      " [110  94  89]\n",
      " [ 99  55  73]]\n"
     ]
    }
   ],
   "source": [
    "#import requred pakage\n",
    "import numpy as np\n",
    "#create array using rand function, of gives size\n",
    "array1 = np.random.randint(1,10,size=(3,3)) \n",
    "array2 = np.random.randint(1,10,size=(3,3)) \n",
    "#perform matrix multiplacation using 2 diff methods\n",
    "array1.dot(array2)\n",
    "print(array1.dot(array2))\n",
    "print(np.matmul(array1,array2))\n"
   ]
  },
  {
   "cell_type": "markdown",
   "id": "2546960a",
   "metadata": {},
   "source": [
    "# Indexing and Slicing: \n",
    "Create a numpy array of shape (5, 5) and print its 2nd row,\n",
    "3rd column, and \n",
    "\n",
    "elements from the 2nd row to the 4th row and 1st column to the 3rd column."
   ]
  },
  {
   "cell_type": "code",
   "execution_count": 1,
   "id": "ceb40ea1",
   "metadata": {},
   "outputs": [
    {
     "name": "stdout",
     "output_type": "stream",
     "text": [
      "[[13 29 38 43 16]\n",
      " [25 47 23 33  2]\n",
      " [12 17 24 14 41]\n",
      " [23 18 18 45 44]\n",
      " [23 37 28 21 31]]\n",
      "2nd row [25 47 23 33  2]\n",
      "3rd column [38 23 24 18 28]\n",
      "2nd row to the 4th row [[25 47 23 33  2]\n",
      " [12 17 24 14 41]\n",
      " [23 18 18 45 44]\n",
      " [23 37 28 21 31]]\n",
      "1st column to the 3rd column [[13 29 38 43]\n",
      " [25 47 23 33]\n",
      " [12 17 24 14]\n",
      " [23 18 18 45]\n",
      " [23 37 28 21]]\n"
     ]
    }
   ],
   "source": [
    "#import requred pakage\n",
    "import numpy as np\n",
    "#create array\n",
    "array5=np.random.randint(1,50,size=(5,5))\n",
    "#diplsay array\n",
    "print(array5)\n",
    "#display arra as per give slicing and indexing condition\n",
    "print('2nd row',array5[1])\n",
    "print('3rd column',array5[:,2])\n",
    "print('2nd row to the 4th row',array5[1:5])\n",
    "print('1st column to the 3rd column',array5[:,0:4])\n",
    "\n"
   ]
  },
  {
   "cell_type": "markdown",
   "id": "d5b15624",
   "metadata": {},
   "source": [
    "# Reshaping: \n",
    "Create a numpy array of size 20 and reshape it into a 4x5 matrix."
   ]
  },
  {
   "cell_type": "code",
   "execution_count": 22,
   "id": "5d60d525",
   "metadata": {},
   "outputs": [
    {
     "name": "stdout",
     "output_type": "stream",
     "text": [
      "reshaped array is: \n",
      " [[12 39 39 44 18]\n",
      " [24 21 12 16 30]\n",
      " [ 3 12 21  5  6]\n",
      " [21 21 35 35  3]]\n",
      "given array size: 20\n",
      "given array shape: (4, 5)\n",
      "given array is 2 D array\n"
     ]
    }
   ],
   "source": [
    "#imort requred pakage\n",
    "import numpy as np\n",
    "#create array \n",
    "array6=np.random.randint(1,50,20)\n",
    "#reshaping 1d array\n",
    "array7=array6.reshape(4,5)\n",
    "print('reshaped array is:'\n",
    "      ,'\\n',array7)\n",
    "#check array properties\n",
    "print('given array size:',np.size(array7))\n",
    "print('given array shape:',np.shape(array7))\n",
    "print('given array is',array7.ndim,'D array')"
   ]
  },
  {
   "cell_type": "markdown",
   "id": "642d07d2",
   "metadata": {},
   "source": [
    "# Element-wise Functions: \n",
    "Create a numpy array and apply trigonometric functions (sin, cos, tan) element-wise to it."
   ]
  },
  {
   "cell_type": "code",
   "execution_count": 32,
   "id": "562edbae",
   "metadata": {},
   "outputs": [
    {
     "name": "stdout",
     "output_type": "stream",
     "text": [
      "this is array: [ 0 30 60 90]\n",
      "sin values: [ 0.         -0.98803162 -0.30481062  0.89399666]\n",
      "cos values: [ 1.          0.15425145 -0.95241298 -0.44807362]\n",
      "tan values: [ 0.         -6.4053312   0.32004039 -1.99520041]\n"
     ]
    }
   ],
   "source": [
    "#import requred pkaage\n",
    "import numpy as np\n",
    "#create a list that has specifc valuse\n",
    "list1=[i for i in range(0,100,30)]\n",
    "for i in range(0,100,30):\n",
    "    list1.append(i)\n",
    "#create array\n",
    "array8=np.array(list1)\n",
    "print('this is array:', array8)\n",
    "#apply function\n",
    "sin=np.sin(array8)\n",
    "cos=np.cos(array8)\n",
    "tan=np.tan(array8)\n",
    "print('sin values:',sin)\n",
    "print('cos values:',cos)\n",
    "print('tan values:',tan)\n"
   ]
  },
  {
   "cell_type": "code",
   "execution_count": 37,
   "id": "912b3661",
   "metadata": {},
   "outputs": [
    {
     "name": "stdout",
     "output_type": "stream",
     "text": [
      "sin function vlaues [ 0.         -0.98803162 -0.30481062  0.89399666]\n",
      "cos function values [ 1.          0.15425145 -0.95241298 -0.44807362]\n",
      "tan function values [ 0.         -6.4053312   0.32004039 -1.99520041]\n"
     ]
    }
   ],
   "source": [
    "#optimized code v1.0\n",
    "import numpy as np\n",
    "array9=np.array([i for i in range(0,100,30)])\n",
    "print('sin vlaues',np.sin(array9))\n",
    "print('cos values',np.cos(array9))\n",
    "print('tan values',np.tan(array9))\n"
   ]
  },
  {
   "cell_type": "code",
   "execution_count": 40,
   "id": "b17633e3",
   "metadata": {},
   "outputs": [
    {
     "name": "stdout",
     "output_type": "stream",
     "text": [
      "sin vlaues [ 0.         -0.98803162 -0.30481062  0.89399666]\n",
      "cos values [ 1.          0.15425145 -0.95241298 -0.44807362]\n",
      "tan values [ 0.         -6.4053312   0.32004039 -1.99520041]\n"
     ]
    }
   ],
   "source": [
    "#optimized code v2.0\n",
    "import numpy as np\n",
    "print('sin vlaues',np.sin(np.array([i for i in range(0,100,30)])))\n",
    "print('cos values',np.cos(np.array([i for i in range(0,100,30)])))\n",
    "print('tan values',np.tan(np.array([i for i in range(0,100,30)])))"
   ]
  },
  {
   "cell_type": "markdown",
   "id": "ab45f1fc",
   "metadata": {},
   "source": [
    "# Sorting: \n",
    "Generate a random numpy array of size 10 and sort it in ascending and descending order."
   ]
  },
  {
   "cell_type": "code",
   "execution_count": 44,
   "id": "2f14d767",
   "metadata": {},
   "outputs": [
    {
     "name": "stdout",
     "output_type": "stream",
     "text": [
      "assending order: [ 1  3  4  5  5  6 10 10 12 13]\n",
      "desceding order: [13 12 10 10  6  5  5  4  3  1]\n"
     ]
    }
   ],
   "source": [
    "import numpy as np\n",
    "array=np.random.randint(1,20,10)\n",
    "print('assending order:',np.sort(array))\n",
    "print('desceding order:',np.sort(array)[::-1])"
   ]
  },
  {
   "cell_type": "markdown",
   "id": "289b15b5",
   "metadata": {},
   "source": [
    "# Masking/Replacing: \n",
    "Create a numpy array of size 10 with random integers and replace all values greater than 5 with 0."
   ]
  },
  {
   "cell_type": "code",
   "execution_count": 51,
   "id": "eb1e89d0",
   "metadata": {},
   "outputs": [
    {
     "name": "stdout",
     "output_type": "stream",
     "text": [
      "replaced array [0 0 0 3 4 2 0 0 1 2]\n"
     ]
    }
   ],
   "source": [
    "import numpy as np\n",
    "array=np.random.randint(1,10,10)\n",
    "array[array > 5]=0\n",
    "print('replaced array', array)"
   ]
  },
  {
   "cell_type": "markdown",
   "id": "9d442d8a",
   "metadata": {},
   "source": [
    "# Linear Algebra: \n",
    "Solve a system of linear equations using numpy's linear algebra capabilities."
   ]
  },
  {
   "cell_type": "markdown",
   "id": "c6b9fcb9",
   "metadata": {},
   "source": [
    "Ax=b\n",
    "\n",
    "Where:\n",
    "A is a coefficient matrix,\n",
    "x is a column vector of variables (unknowns),\n",
    "b is a column vector of constants."
   ]
  },
  {
   "cell_type": "code",
   "execution_count": 55,
   "id": "64bb7e2e",
   "metadata": {},
   "outputs": [
    {
     "name": "stdout",
     "output_type": "stream",
     "text": [
      "[4 1]\n",
      "Solution vector x: [1.66666667 0.66666667]\n"
     ]
    }
   ],
   "source": [
    "import numpy as np\n",
    "\n",
    "# Define the coefficient matrix A\n",
    "A = np.array([[2, 1], [1, -1]])\n",
    "\n",
    "# Define the constant vector b\n",
    "b = np.array([4, 1])\n",
    "print(b)\n",
    "\n",
    "# Solve the system of linear equations\n",
    "x = np.linalg.solve(A, b)\n",
    "\n",
    "print(\"Solution vector x:\", x)\n"
   ]
  },
  {
   "cell_type": "code",
   "execution_count": null,
   "id": "55bf03ad",
   "metadata": {},
   "outputs": [],
   "source": []
  }
 ],
 "metadata": {
  "kernelspec": {
   "display_name": "Python 3 (ipykernel)",
   "language": "python",
   "name": "python3"
  },
  "language_info": {
   "codemirror_mode": {
    "name": "ipython",
    "version": 3
   },
   "file_extension": ".py",
   "mimetype": "text/x-python",
   "name": "python",
   "nbconvert_exporter": "python",
   "pygments_lexer": "ipython3",
   "version": "3.11.5"
  }
 },
 "nbformat": 4,
 "nbformat_minor": 5
}
